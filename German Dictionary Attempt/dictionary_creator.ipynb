{
 "cells": [
  {
   "cell_type": "code",
   "execution_count": 2,
   "metadata": {},
   "outputs": [],
   "source": [
    "#The purpose of this file is to change a list of sentences into a long list of single words.\n",
    "# import pandas as pd\n",
    "import numpy as np\n",
    "import csv\n",
    "import regex as re\n",
    "import string\n",
    "\n",
    "# words = open(\"deu_news_1995_10K-sentences.txt\").read().split(chr(13))\n",
    "# words2 = pd.read_csv(\"deu_news_1995_10K-sentences.txt\")\n",
    "\n",
    "# print(words2)\n",
    "#wordcost = dict((k, log((i+1)*log(len(words)))) for i,k in enumerate(words))\n",
    "\n",
    "\n",
    "# def read_in_chunks(file_object, chunk_size=1024):\n",
    "#     \"\"\"Lazy function (generator) to read a file piece by piece.\n",
    "#     Default chunk size: 1k.\"\"\"\n",
    "#     while True:\n",
    "#         data = file_object.read(chunk_size)\n",
    "#         if not data:\n",
    "#             break\n",
    "#         yield data\n",
    "\n",
    "\n",
    "# import csv\n",
    "# sentences=[]\n",
    "# with open(\"deu_news_1995_10K-sentences.txt\", newline = '') as games:\n",
    "#     for game in read_in_chunks(games):\n",
    "#         game_reader = csv.reader(games, delimiter='\\t')\n",
    "#         count=0\n",
    "#         for game in game_reader:\n",
    "#             game.pop(0)\n",
    "#             sentences.append(game)\n",
    "#             print(count)\n",
    "#             count+=1\n",
    "#     print(sentences)\n",
    "with open(\"deu_news_1995_10K-sentences.txt\", newline='') as file:\n",
    "    text = file.read()\n",
    "    sentence_array = text.split('\\r\\n')\n",
    "    words = []\n",
    "    for sentence in sentence_array:\n",
    "#         no_punctuation = re.sub('!|@|#|$|%|^|&|(|)|,|.','',sentence)\n",
    "#         print('after regex:', no_punctuation)\n",
    "        word_array = sentence.split()\n",
    "        words.append(word_array)\n",
    "        \n",
    "with open('dictionary.txt', 'w') as txt_file:\n",
    "    for line in words:\n",
    "        for word in line:\n",
    "            txt_file.write(word.translate(str.maketrans('', '', string.punctuation)).lower()+ \"\\n\")"
   ]
  }
 ],
 "metadata": {
  "kernelspec": {
   "display_name": "Python 3",
   "language": "python",
   "name": "python3"
  },
  "language_info": {
   "codemirror_mode": {
    "name": "ipython",
    "version": 3
   },
   "file_extension": ".py",
   "mimetype": "text/x-python",
   "name": "python",
   "nbconvert_exporter": "python",
   "pygments_lexer": "ipython3",
   "version": "3.8.5"
  }
 },
 "nbformat": 4,
 "nbformat_minor": 4
}
